{
 "cells": [
  {
   "cell_type": "code",
   "execution_count": 3,
   "metadata": {},
   "outputs": [],
   "source": [
    "df = pd.read_csv('data.csv')"
   ]
  },
  {
   "cell_type": "code",
   "execution_count": 7,
   "metadata": {},
   "outputs": [],
   "source": [
    "df1 = df['Open'].values"
   ]
  },
  {
   "cell_type": "code",
   "execution_count": 35,
   "metadata": {},
   "outputs": [],
   "source": [
    "import pandas as pd\n",
    "import numpy as np\n",
    "import time"
   ]
  },
  {
   "cell_type": "code",
   "execution_count": 2,
   "metadata": {},
   "outputs": [],
   "source": [
    "import seaborn as sns\n",
    "import matplotlib.pyplot as plt"
   ]
  },
  {
   "cell_type": "code",
   "execution_count": 4,
   "metadata": {},
   "outputs": [],
   "source": [
    " def merge_sort(array, left_index, right_index, middle):\n",
    "        # Make copies of both arrays we're trying to merge\n",
    "\n",
    "        # The second parameter is non-inclusive, so we have to increase by 1\n",
    "        left_copy = array[left_index:middle + 1]\n",
    "        right_copy = array[middle+1:right_index+1]\n",
    "\n",
    "    # Initial values for variables that we use to keep\n",
    "    # track of where we are in each array\n",
    "        left_copy_index = 0\n",
    "        right_copy_index = 0\n",
    "        sorted_index = left_index\n",
    "\n",
    "    # Go through both copies until we run out of elements in one\n",
    "        while left_copy_index < len(left_copy) and right_copy_index < len(right_copy):\n",
    "            # If our left_copy has the smaller element, put it in the sorted\n",
    "            # part and then move forward in left_copy (by increasing the pointer)\n",
    "            if left_copy[left_copy_index] <= right_copy[right_copy_index]:\n",
    "                array[sorted_index] = left_copy[left_copy_index]\n",
    "                left_copy_index = left_copy_index + 1\n",
    "        # Opposite from above\n",
    "            else:\n",
    "                array[sorted_index] = right_copy[right_copy_index]\n",
    "                right_copy_index = right_copy_index + 1\n",
    "\n",
    "        # Regardless of where we got our element from\n",
    "        # move forward in the sorted part\n",
    "                sorted_index = sorted_index + 1\n",
    "\n",
    "    # We ran out of elements either in left_copy or right_copy\n",
    "    # so we will go through the remaining elements and add them\n",
    "        while left_copy_index < len(left_copy):\n",
    "            array[sorted_index] = left_copy[left_copy_index]\n",
    "            left_copy_index = left_copy_index + 1\n",
    "            sorted_index = sorted_index + 1\n",
    "\n",
    "        while right_copy_index < len(right_copy):\n",
    "            array[sorted_index] = right_copy[right_copy_index]\n",
    "            right_copy_index = right_copy_index + 1\n",
    "            sorted_index = sorted_index + 1"
   ]
  },
  {
   "cell_type": "code",
   "execution_count": 30,
   "metadata": {},
   "outputs": [],
   "source": [
    "def Merge_sort(df1):\n",
    "        a1 = df1[:10000]\n",
    "        a2 = df1[10000:20000]\n",
    "        a3 = df1[20000:30000]\n",
    "        a4 = df1[30000:40000]\n",
    "        a5 = df1[40000:50000]\n",
    "        \n",
    "        a = [a1, a2, a3, a4,a5]\n",
    "        times = list()\n",
    "        #time1 = list()\n",
    "\n",
    "        for b in a:\n",
    "            start = time.process_time()\n",
    "            merge_sort(b, 0, len(b) -1, len(b) // 2) \n",
    "            end = time.process_time()\n",
    "            times.append(end-start)\n",
    "            times = times\n",
    "            \n",
    "        dft = pd.DataFrame(times)\n",
    "        dft.rename(columns={0:'Time'}, inplace=True)\n",
    "        dft['Time Sum'] = dft.Time.cumsum()\n",
    "        dft['N'] = pd.Series([10000,20000,30000,40000,50000])\n",
    "        dft.loc[-1] = [0, 0, 0]  # adding a row\n",
    "        dft.index = dft.index + 1  # shifting index\n",
    "        dft = dft.sort_index()  # sorting by index\n",
    "            \n",
    "        plt.xlabel('List Length') \n",
    "        plt.ylabel('Time Complexity')\n",
    "        sns.lineplot(x='N', y='Time Sum', data=dft, Label='Merge Sort')\n",
    "        plt.grid()\n",
    "        return\n",
    "            "
   ]
  },
  {
   "cell_type": "code",
   "execution_count": 31,
   "metadata": {},
   "outputs": [
    {
     "data": {
      "image/png": "[encoded data removed]",
      "text/plain": [
       "<Figure size 432x288 with 1 Axes>"
      ]
     },
     "metadata": {
      "needs_background": "light"
     },
     "output_type": "display_data"
    }
   ],
   "source": [
    "Merge_sort(df1)"
   ]
  },
  {
   "cell_type": "code",
   "execution_count": 32,
   "metadata": {},
   "outputs": [],
   "source": [
    "def insertion_sort(array):\n",
    "        # We start from 1 since the first element is trivially sorted\n",
    "        for index in range(1, len(array)):\n",
    "            currentValue = array[index]\n",
    "            currentPosition = index\n",
    "\n",
    "        # As long as we haven't reached the beginning and there is an element\n",
    "        # in our sorted array larger than the one we're trying to insert - move\n",
    "        # that element to the right\n",
    "            while currentPosition > 0 and array[currentPosition - 1] > currentValue:\n",
    "                array[currentPosition] = array[currentPosition -1]\n",
    "                currentPosition = currentPosition - 1\n",
    "\n",
    "\n",
    "        # We have either reached the beginning of the array or we have found\n",
    "        # an element of the sorted array that is smaller than the element\n",
    "        # we're trying to insert at index currentPosition - 1.\n",
    "        # Either way - we insert the element at currentPosition\n",
    "                array[currentPosition] = currentValue"
   ]
  },
  {
   "cell_type": "code",
   "execution_count": 33,
   "metadata": {},
   "outputs": [],
   "source": [
    "def Insertion_sort(df1):\n",
    "    b1 = df1[:10000]\n",
    "    b2 = df1[10000:20000]\n",
    "    b3 = df1[20000:30000]\n",
    "    b4 = df1[30000:40000]\n",
    "    b5 = df1[40000:50000]\n",
    "    \n",
    "    b = [b1, b2, b3, b4,b5]\n",
    "    times1 = list()\n",
    "    #time1 = list()\n",
    "\n",
    "    for a in b:\n",
    "        start = time.process_time()\n",
    "        insertion_sort(a) \n",
    "        end = time.process_time()\n",
    "        times1.append(end-start)\n",
    "        times1 = times1\n",
    "        \n",
    "    dfis = pd.DataFrame(times1)\n",
    "    dfis.rename(columns={0:'Time'}, inplace=True)\n",
    "    dfis['Time Sum'] = dfis.Time.cumsum()\n",
    "    dfis['N'] = pd.Series([10000,20000,30000,40000,50000])\n",
    "        \n",
    "    dfis.loc[-1] = [0, 0, 0]  # adding a row\n",
    "    dfis.index = dfis.index + 1  # shifting index\n",
    "    dfis = dfis.sort_index()  # sorting by index\n",
    "        \n",
    "    plt.xlabel('List Length') \n",
    "    plt.ylabel('Time Complexity')\n",
    "    sns.lineplot(x='N', y='Time Sum', data=dfis, Label='Insertion Sort')\n",
    "    plt.grid()\n",
    "    return\n",
    "    "
   ]
  },
  {
   "cell_type": "code",
   "execution_count": 36,
   "metadata": {},
   "outputs": [
    {
     "data": {
      "image/png": "[encoded data removed]",
      "text/plain": [
       "<Figure size 432x288 with 1 Axes>"
      ]
     },
     "metadata": {
      "needs_background": "light"
     },
     "output_type": "display_data"
    }
   ],
   "source": [
    "Insertion_sort(df1)"
   ]
  },
  {
   "cell_type": "code",
   "execution_count": 37,
   "metadata": {},
   "outputs": [],
   "source": [
    "def partition(arr,low,high): \n",
    "    i = ( low-1 )         # index of smaller element \n",
    "    pivot = arr[high]     # pivot \n",
    "  \n",
    "    for j in range(low , high): \n",
    "  \n",
    "        # If current element is smaller than or \n",
    "        # equal to pivot \n",
    "        if   arr[j] <= pivot: \n",
    "          \n",
    "            # increment index of smaller element \n",
    "            i = i+1 \n",
    "            arr[i],arr[j] = arr[j],arr[i] \n",
    "  \n",
    "    arr[i+1],arr[high] = arr[high],arr[i+1] \n",
    "    return ( i+1 )"
   ]
  },
  {
   "cell_type": "code",
   "execution_count": 38,
   "metadata": {},
   "outputs": [],
   "source": [
    "def quickSort(arr,low,high): \n",
    "    if low < high: \n",
    "  \n",
    "        # pi is partitioning index, arr[p] is now \n",
    "        # at right place \n",
    "        pi = partition(arr,low,high) \n",
    "  \n",
    "        # Separately sort elements before \n",
    "        # partition and after partition \n",
    "        quickSort(arr, low, pi-1) \n",
    "        quickSort(arr, pi+1, high)"
   ]
  },
  {
   "cell_type": "code",
   "execution_count": 41,
   "metadata": {},
   "outputs": [],
   "source": [
    "def Quick_sort(df1):\n",
    "    \n",
    "    c1 = df1[:2500]\n",
    "    c2 = df1[2500:5000]\n",
    "    c3= df1[5000:7500]\n",
    "    c4 = df1[7500:10000]\n",
    "    c5 = df1[10000:12500]\n",
    "    c6 = df1[12500:15000]\n",
    "    c7 = df1[15000:17500]\n",
    "    c8 = df1[17500:20000]\n",
    "    c9 = df1[20000:22500]\n",
    "    c10 = df1[22500:25000]\n",
    "    c11 = df1[25000:27500]\n",
    "    c12 = df1[27500:30000]\n",
    "    c13= df1[30000:32500]\n",
    "    c14 = df1[32500:35000]\n",
    "    c15 = df1[35000:37500]\n",
    "    c16 = df1[37500:40000]\n",
    "    c17 = df1[40000:42500]\n",
    "    c18 = df1[42500:45000]\n",
    "    c19 = df1[45000:47500]\n",
    "    c20 = df1[47500:50000]\n",
    "    \n",
    "    c = [c1, c2, c3, c4, c5, c6, c7, c8, c9 ,c10, c11, c12, c13, c14, c15, c16, c17, c18, c19, c20]\n",
    "    times2 = list()\n",
    "    #time1 = list()\n",
    "    \n",
    "    for a1 in c:\n",
    "        start = time.process_time()\n",
    "        quickSort(a1, 0, len(a1) -1 ) \n",
    "        end = time.process_time()\n",
    "        times2.append(end-start)\n",
    "        times2 = times2\n",
    "        \n",
    "        \n",
    "    dfqs = pd.DataFrame(times2)\n",
    "    dfqs.rename(columns={0:'Time'}, inplace=True)\n",
    "    dfqs['Time Sum'] = dfqs.Time.cumsum()\n",
    "    NN = pd.Series(range(0,50000, 2500))\n",
    "    dfqs['N'] = pd.DataFrame(NN)\n",
    "        \n",
    "    dfqs.loc[-1] = [0, 0, 0]  # adding a row\n",
    "    dfqs.index = dfqs.index + 1  # shifting index\n",
    "    dfqs = dfqs.sort_index()\n",
    "        \n",
    "        \n",
    "    plt.xlabel('List Length') \n",
    "    plt.ylabel('Time Complexity')\n",
    "    sns.lineplot(x='N', y='Time Sum', data=dfqs, Label='Quick Sort')\n",
    "    plt.grid()\n",
    "    plt.xlim(0, 50000)\n",
    "    #plt.ylim(0, 20)\n",
    " \n",
    "    return\n",
    "    "
   ]
  },
  {
   "cell_type": "code",
   "execution_count": 40,
   "metadata": {},
   "outputs": [
    {
     "data": {
      "image/png": "[encoded data removed]",
      "text/plain": [
       "<Figure size 432x288 with 1 Axes>"
      ]
     },
     "metadata": {
      "needs_background": "light"
     },
     "output_type": "display_data"
    }
   ],
   "source": [
    "Quick_sort(df1)"
   ]
  },
  {
   "cell_type": "code",
   "execution_count": 44,
   "metadata": {},
   "outputs": [],
   "source": [
    "def Sortalg():\n",
    "    print('Welcome here')\n",
    "    print('Select your column to see sorting algorithms')\n",
    "    print('\\n 1. Open \\n 2. High \\n 3. Low \\n 4. Close')\n",
    "    r = input('Enter your column number:  ')\n",
    "    \n",
    "    #times = list()\n",
    "    \n",
    "    def prepare(r):\n",
    "        if r == 1:\n",
    "            df1 = df['Open'].values\n",
    "            return df1 \n",
    "        elif r == 2:\n",
    "            df1 = df['High'].values\n",
    "            return df1 \n",
    "        elif r == 3:\n",
    "            df1 = df['Low'].values\n",
    "            return df1 \n",
    "        elif r == 4:\n",
    "            df1 = df['Close'].values\n",
    "            return df1\n",
    "        \n",
    "        def qk(df1):\n",
    "            return Quick_sort(df1)\n",
    "    \n",
    "    Merge_sort(df1)\n",
    "    Insertion_sort(df1)\n",
    "    Quick_sort(df1)\n",
    "    return"
   ]
  },
  {
   "cell_type": "code",
   "execution_count": 45,
   "metadata": {},
   "outputs": [
    {
     "name": "stdout",
     "output_type": "stream",
     "text": [
      "Welcome here\n",
      "Select your column to see sorting algorithms\n",
      "\n",
      " 1. Open \n",
      " 2. High \n",
      " 3. Low \n",
      " 4. Close\n"
     ]
    },
    {
     "name": "stdin",
     "output_type": "stream",
     "text": [
      "Enter your column number:   3\n"
     ]
    },
    {
     "data": {
      "image/png": "[encoded data removed]",
      "text/plain": [
       "<Figure size 432x288 with 1 Axes>"
      ]
     },
     "metadata": {
      "needs_background": "light"
     },
     "output_type": "display_data"
    }
   ],
   "source": [
    "Sortalg()"
   ]
  },
  {
   "cell_type": "code",
   "execution_count": null,
   "metadata": {},
   "outputs": [],
   "source": []
  }
 ],
 "metadata": {
  "kernelspec": {
   "display_name": "Python 3",
   "language": "python",
   "name": "python3"
  },
  "language_info": {
   "codemirror_mode": {
    "name": "ipython",
    "version": 3
   },
   "file_extension": ".py",
   "mimetype": "text/x-python",
   "name": "python",
   "nbconvert_exporter": "python",
   "pygments_lexer": "ipython3",
   "version": "3.7.6"
  }
 },
 "nbformat": 4,
 "nbformat_minor": 4
}
